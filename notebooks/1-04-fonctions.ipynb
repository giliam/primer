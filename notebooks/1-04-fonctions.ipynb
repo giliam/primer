{
 "cells": [
  {
   "cell_type": "markdown",
   "metadata": {
    "slideshow": {
     "slide_type": "slide"
    }
   },
   "source": [
    "<div class=\"licence\">\n",
    "<span>Licence CC BY-NC-ND</span>\n",
    "<span>Thierry Parmentelat</span>\n",
    "<span><img src=\"../media/inria-25-alpha.png\" /></span>\n",
    "</div>"
   ]
  },
  {
   "cell_type": "markdown",
   "metadata": {
    "slideshow": {
     "slide_type": ""
    }
   },
   "source": [
    "# fonctions"
   ]
  },
  {
   "cell_type": "markdown",
   "metadata": {
    "slideshow": {
     "slide_type": "slide"
    }
   },
   "source": [
    "## le mot clé `def`\n",
    "\n",
    "on définit une fonction avec le mot-clé `def`"
   ]
  },
  {
   "cell_type": "code",
   "execution_count": 1,
   "metadata": {
    "cell_style": "split"
   },
   "outputs": [],
   "source": [
    "# remarquez: \n",
    "# . l'indentation \n",
    "# . le mot clé return\n",
    "# . le docstring \n",
    "\n",
    "def P(x):\n",
    "    \"\"\"\n",
    "    la fonction P implémente \n",
    "    le polynôme \n",
    "    que l'on étudie\n",
    "    \"\"\"\n",
    "    return x**2 + 3*x + 2"
   ]
  },
  {
   "cell_type": "code",
   "execution_count": 2,
   "metadata": {
    "cell_style": "split"
   },
   "outputs": [
    {
     "data": {
      "text/plain": [
       "132"
      ]
     },
     "execution_count": 2,
     "metadata": {},
     "output_type": "execute_result"
    }
   ],
   "source": [
    "# un appel\n",
    "P(10)"
   ]
  },
  {
   "cell_type": "code",
   "execution_count": 3,
   "metadata": {
    "cell_style": "split"
   },
   "outputs": [
    {
     "data": {
      "text/plain": [
       "10302"
      ]
     },
     "execution_count": 3,
     "metadata": {},
     "output_type": "execute_result"
    }
   ],
   "source": [
    "P(100)"
   ]
  },
  {
   "cell_type": "code",
   "execution_count": 4,
   "metadata": {
    "cell_style": "split"
   },
   "outputs": [
    {
     "name": "stdout",
     "output_type": "stream",
     "text": [
      "Help on function P in module __main__:\n",
      "\n",
      "P(x)\n",
      "    la fonction P implémente \n",
      "    le polynôme \n",
      "    que l'on étudie\n",
      "\n"
     ]
    }
   ],
   "source": [
    "# le docstring est rangé\n",
    "# dans la fonction \n",
    "help(P)"
   ]
  },
  {
   "cell_type": "markdown",
   "metadata": {
    "slideshow": {
     "slide_type": "slide"
    }
   },
   "source": [
    "## syntaxe"
   ]
  },
  {
   "cell_type": "markdown",
   "metadata": {},
   "source": [
    "en Python, les sauts de ligne et la présentation (indentation)  \n",
    "**font partie de la syntaxe**  \n",
    "c'est différent d'autres langages comme C++, Java, Javascript, ...  \n",
    "ce choix est fait pour **augmenter la lisibilité**  \n",
    "car on n'a alors pas besoin de sucre syntaxique comme `begin .. end` ou autres `{ .. } `"
   ]
  },
  {
   "cell_type": "markdown",
   "metadata": {
    "slideshow": {
     "slide_type": "slide"
    }
   },
   "source": [
    "## syntaxe - illustration  \n",
    "\n",
    "c'est l'indentation qui détermine la structure  \n",
    "l'usage est d'indenter de **4 espaces**  \n",
    "et de ne **pas utiliser** de tabulations (trop variables)"
   ]
  },
  {
   "cell_type": "markdown",
   "metadata": {
    "cell_style": "split"
   },
   "source": [
    "```c++\n",
    "// en Javascript \n",
    "// on écrirait\n",
    "function foo(i) {\n",
    "    if (i <= 0) {\n",
    "        fonction1(i);\n",
    "        fonction2(i);\n",
    "    } else {\n",
    "        fonction3(i);\n",
    "    }\n",
    "}\n",
    "```"
   ]
  },
  {
   "cell_type": "markdown",
   "metadata": {
    "cell_style": "split"
   },
   "source": [
    "```python\n",
    "# en Python ce serait\n",
    "def foo(i):\n",
    "    if i <= 0:\n",
    "        fonction1(i)\n",
    "        fonction2(i)\n",
    "    else:\n",
    "        fonction3(i)\n",
    "```"
   ]
  },
  {
   "cell_type": "markdown",
   "metadata": {
    "slideshow": {
     "slide_type": "slide"
    }
   },
   "source": [
    "## mot-clé `if`"
   ]
  },
  {
   "cell_type": "markdown",
   "metadata": {
    "cell_style": "split"
   },
   "source": [
    "forme générale\n",
    "\n",
    "```python\n",
    "if exp1:\n",
    "    ...\n",
    "    ...\n",
    "elif exp2:\n",
    "    ...\n",
    "    ...\n",
    "else:\n",
    "    ...\n",
    "    ...\n",
    "```"
   ]
  },
  {
   "cell_type": "code",
   "execution_count": 5,
   "metadata": {
    "cell_style": "split"
   },
   "outputs": [],
   "source": [
    "note = 14\n",
    "appreciation = None\n",
    "\n",
    "if note >= 16:\n",
    "    appreciation = 'félicitations'\n",
    "elif note >= 10:\n",
    "    appreciation = 'reçu'\n",
    "else:\n",
    "    appreciation = 'recalé'"
   ]
  },
  {
   "cell_type": "code",
   "execution_count": 6,
   "metadata": {},
   "outputs": [
    {
     "data": {
      "text/plain": [
       "'reçu'"
      ]
     },
     "execution_count": 6,
     "metadata": {},
     "output_type": "execute_result"
    }
   ],
   "source": [
    "appreciation"
   ]
  },
  {
   "cell_type": "markdown",
   "metadata": {
    "cell_style": "split",
    "slideshow": {
     "slide_type": "slide"
    }
   },
   "source": [
    "## boucle `while`\n",
    "\n",
    "forme générale  \n",
    "\n",
    "```python\n",
    "while exp:\n",
    "    ...\n",
    "    ...\n",
    "```"
   ]
  },
  {
   "cell_type": "code",
   "execution_count": 7,
   "metadata": {
    "cell_style": "split"
   },
   "outputs": [],
   "source": [
    "n = 132\n",
    "log = 0\n",
    "\n",
    "while n >= 1:\n",
    "    log = log + 1\n",
    "    n = n // 2"
   ]
  },
  {
   "cell_type": "code",
   "execution_count": 8,
   "metadata": {
    "cell_style": "split"
   },
   "outputs": [
    {
     "data": {
      "text/plain": [
       "8"
      ]
     },
     "execution_count": 8,
     "metadata": {},
     "output_type": "execute_result"
    }
   ],
   "source": [
    "log"
   ]
  },
  {
   "cell_type": "markdown",
   "metadata": {
    "slideshow": {
     "slide_type": "slide"
    }
   },
   "source": [
    "## `return`"
   ]
  },
  {
   "cell_type": "markdown",
   "metadata": {},
   "source": [
    "une fonction est censée retourner quelque chose  \n",
    "\n",
    "    resultat = fonction(arguments)\n",
    "    \n",
    "avec `return` on indique ce qui est le résultat  \n",
    "l'exécution de la fonction **s'arrête** à ce moment-là  \n",
    "si pas de `return`, le retour est `None` "
   ]
  },
  {
   "cell_type": "code",
   "execution_count": 9,
   "metadata": {
    "cell_style": "split",
    "slideshow": {
     "slide_type": "slide"
    }
   },
   "outputs": [],
   "source": [
    "# une fonction incomplète\n",
    "def broken_abs(n):\n",
    "    if n <= 0:\n",
    "        return -n"
   ]
  },
  {
   "cell_type": "code",
   "execution_count": 10,
   "metadata": {
    "cell_style": "split"
   },
   "outputs": [
    {
     "data": {
      "text/plain": [
       "10"
      ]
     },
     "execution_count": 10,
     "metadata": {},
     "output_type": "execute_result"
    }
   ],
   "source": [
    "# avec un négatif \n",
    "\n",
    "broken_abs(-10)"
   ]
  },
  {
   "cell_type": "code",
   "execution_count": 11,
   "metadata": {
    "cell_style": "split"
   },
   "outputs": [],
   "source": [
    "# ici la fonction retourne None\n",
    "# du coup le notebook n'affiche rien\n",
    "broken_abs(10)"
   ]
  },
  {
   "cell_type": "code",
   "execution_count": 12,
   "metadata": {
    "cell_style": "split"
   },
   "outputs": [],
   "source": [
    "def fixed_abs(n):\n",
    "    if n <= 0:\n",
    "        return -n\n",
    "    return n"
   ]
  },
  {
   "cell_type": "code",
   "execution_count": 13,
   "metadata": {
    "cell_style": "split"
   },
   "outputs": [
    {
     "data": {
      "text/plain": [
       "10"
      ]
     },
     "execution_count": 13,
     "metadata": {},
     "output_type": "execute_result"
    }
   ],
   "source": [
    "# on ignore la dernière ligne\n",
    "# puisqu'on est arrivé au return\n",
    "fixed_abs(-10)"
   ]
  },
  {
   "cell_type": "code",
   "execution_count": 14,
   "metadata": {
    "cell_style": "split"
   },
   "outputs": [
    {
     "data": {
      "text/plain": [
       "10"
      ]
     },
     "execution_count": 14,
     "metadata": {},
     "output_type": "execute_result"
    }
   ],
   "source": [
    "fixed_abs(10)"
   ]
  },
  {
   "cell_type": "markdown",
   "metadata": {
    "slideshow": {
     "slide_type": "slide"
    }
   },
   "source": [
    "## variables locales"
   ]
  },
  {
   "cell_type": "markdown",
   "metadata": {},
   "source": [
    "à l'intérieur d'une fonction on peut naturellement utiliser des variables  \n",
    "la **portée** de ces variables est **limitée à la fonction**  \n",
    "ici les deux variables `var` sont des entités **distinctes**"
   ]
  },
  {
   "cell_type": "code",
   "execution_count": 15,
   "metadata": {
    "cell_style": "split"
   },
   "outputs": [],
   "source": [
    "var = \"globale\"\n",
    "\n",
    "def polynom(n):\n",
    "    \"\"\"\n",
    "    polynome 4.x3 + 3.x2 + 2x + 1\n",
    "    sans mise à la puissance\n",
    "    \"\"\"\n",
    "    var = n         # var = n\n",
    "    resultat = 1\n",
    "    resultat += 2 * var\n",
    "    var = var * n   # var = n**2\n",
    "    resultat += 3 * var\n",
    "    var = var * n   # var = n**3\n",
    "    resultat += 4 * var\n",
    "    print(f\"dans def: var = {var}\")\n",
    "    return resultat"
   ]
  },
  {
   "cell_type": "code",
   "execution_count": 16,
   "metadata": {
    "cell_style": "split"
   },
   "outputs": [
    {
     "name": "stdout",
     "output_type": "stream",
     "text": [
      "dans def: var = 1\n"
     ]
    },
    {
     "data": {
      "text/plain": [
       "10"
      ]
     },
     "execution_count": 16,
     "metadata": {},
     "output_type": "execute_result"
    }
   ],
   "source": [
    "polynom(1)"
   ]
  },
  {
   "cell_type": "code",
   "execution_count": 17,
   "metadata": {
    "cell_style": "split"
   },
   "outputs": [
    {
     "name": "stdout",
     "output_type": "stream",
     "text": [
      "dans def: var = 1000\n"
     ]
    },
    {
     "data": {
      "text/plain": [
       "4321"
      ]
     },
     "execution_count": 17,
     "metadata": {},
     "output_type": "execute_result"
    }
   ],
   "source": [
    "polynom(10)"
   ]
  },
  {
   "cell_type": "code",
   "execution_count": 18,
   "metadata": {
    "cell_style": "split"
   },
   "outputs": [
    {
     "data": {
      "text/plain": [
       "'globale'"
      ]
     },
     "execution_count": 18,
     "metadata": {},
     "output_type": "execute_result"
    }
   ],
   "source": [
    "var"
   ]
  },
  {
   "cell_type": "markdown",
   "metadata": {
    "slideshow": {
     "slide_type": "slide"
    }
   },
   "source": [
    "## variables locales"
   ]
  },
  {
   "cell_type": "markdown",
   "metadata": {},
   "source": [
    "attention, les variables de l'environnement global sont tout de même accessibles"
   ]
  },
  {
   "cell_type": "code",
   "execution_count": 23,
   "metadata": {
    "cell_style": "split"
   },
   "outputs": [],
   "source": [
    "var = \"globale\"\n",
    "\n",
    "def test(n):\n",
    "    print(var)\n",
    "    print(n*n)"
   ]
  },
  {
   "cell_type": "code",
   "execution_count": 24,
   "metadata": {
    "cell_style": "split"
   },
   "outputs": [
    {
     "name": "stdout",
     "output_type": "stream",
     "text": [
      "globale\n",
      "100\n"
     ]
    }
   ],
   "source": [
    "test(10)"
   ]
  },
  {
   "cell_type": "markdown",
   "metadata": {
    "slideshow": {
     "slide_type": "slide"
    }
   },
   "source": [
    "## appels imbriqués / récursion"
   ]
  },
  {
   "cell_type": "markdown",
   "metadata": {
    "cell_style": "center"
   },
   "source": [
    "bien sûr dans le code d'une fonction  \n",
    "on peut appeler d'autres fonctions  \n",
    "y compris la fonction courante : fonction **récursive**  (cf `fact.py`)  "
   ]
  },
  {
   "cell_type": "markdown",
   "metadata": {
    "cell_style": "center"
   },
   "source": [
    "lorsque `f` appelle `g`,  \n",
    "`f` est en quelque sorte *mise en suspens* pendant l'exécution de `g`  \n",
    "du coup il est nécessaire de conserver où en est `f`  \n",
    "\n",
    "* à quel point on en est dans `f`\n",
    "* la valeur des variables locales de `f`"
   ]
  },
  {
   "cell_type": "markdown",
   "metadata": {
    "slideshow": {
     "slide_type": "slide"
    }
   },
   "source": [
    "## pile d'exécution"
   ]
  },
  {
   "cell_type": "markdown",
   "metadata": {},
   "source": [
    "c'est le propos de la pile d'exécution  \n",
    "qui conserve la trace des appels imbriqués  \n",
    "\n",
    "illustrons cela avec https://pythontutor.com/  \n",
    "un site qui est très utile pour visualiser l'exécution de code simple"
   ]
  },
  {
   "cell_type": "code",
   "execution_count": 25,
   "metadata": {
    "cell_style": "center"
   },
   "outputs": [],
   "source": [
    "# une magie pour créer des cellules sous pythontutor.com\n",
    "\n",
    "%load_ext ipythontutor"
   ]
  },
  {
   "cell_type": "code",
   "execution_count": 26,
   "metadata": {
    "cell_style": "center",
    "slideshow": {
     "slide_type": "slide"
    }
   },
   "outputs": [
    {
     "data": {
      "application/vnd.jupyter.widget-view+json": {
       "model_id": "14ab37d2f2d241498c6fbfebefe384d2",
       "version_major": 2,
       "version_minor": 0
      },
      "text/html": [
       "<p>Failed to display Jupyter Widget of type <code>HTML</code>.</p>\n",
       "<p>\n",
       "  If you're reading this message in the Jupyter Notebook or JupyterLab Notebook, it may mean\n",
       "  that the widgets JavaScript is still loading. If this message persists, it\n",
       "  likely means that the widgets JavaScript library is either not installed or\n",
       "  not enabled. See the <a href=\"https://ipywidgets.readthedocs.io/en/stable/user_install.html\">Jupyter\n",
       "  Widgets Documentation</a> for setup instructions.\n",
       "</p>\n",
       "<p>\n",
       "  If you're reading this message in another frontend (for example, a static\n",
       "  rendering on GitHub or <a href=\"https://nbviewer.jupyter.org/\">NBViewer</a>),\n",
       "  it may mean that your frontend doesn't currently support widgets.\n",
       "</p>\n"
      ],
      "text/plain": [
       "HTML(value='<style>#ipythontutor1 </style><style>#ipythontutor2 { max-width:750px; max-height:500px; box-sizing:border-box; }</style><div id=ipythontutor2><iframe id=\"ipythontutor1\" class=\"pythontutor\" width=\"750.0\" height=\"500.0\" src=\"https://pythontutor.com/iframe-embed.html#code=%0Adef+fact%28n%29%3A%0A++++if+n+%3C%3D+1%3A%0A++++++++return+n%0A++++else%3A%0A++++++++return+n+%2A+fact%28n-1%29%0A++++%0A%23+pour+visualiser+la+pile+d%27ex%C3%A9cution%0A%0Ax+%3D+fact%283%29%0A&mode=display&origin=opt-frontend.js&textReferences=false&py=3&curInstr=0&verticalStack=&heapPrimitives=false\"></div>')"
      ]
     },
     "metadata": {},
     "output_type": "display_data"
    }
   ],
   "source": [
    "%%ipythontutor height=500\n",
    "\n",
    "def fact(n):\n",
    "    if n <= 1:\n",
    "        return n\n",
    "    else:\n",
    "        return n * fact(n-1)\n",
    "    \n",
    "# pour visualiser la pile d'exécution\n",
    "\n",
    "x = fact(3)"
   ]
  },
  {
   "cell_type": "markdown",
   "metadata": {
    "slideshow": {
     "slide_type": "slide"
    }
   },
   "source": [
    "## exceptions"
   ]
  },
  {
   "cell_type": "markdown",
   "metadata": {},
   "source": [
    "le mot-clé `raise` permet de **lever une exception**  \n",
    "cela a pour effet d'interrompre la fonction courante  \n",
    "et de **dépiler** les appels jusqu'à  \n",
    "trouver un `except` qui **attrape l'exception**"
   ]
  },
  {
   "cell_type": "code",
   "execution_count": 27,
   "metadata": {
    "cell_style": "center",
    "slideshow": {
     "slide_type": "slide"
    }
   },
   "outputs": [],
   "source": [
    "# une fonction qui va faire raise\n",
    "# mais pas tout de suite\n",
    "def time_bomb(n):\n",
    "    print(f\"in time_bomb({n})\")\n",
    "    if n > 0:\n",
    "        return time_bomb(n-1)\n",
    "    else:\n",
    "        raise OverflowError(\"BOOM\")"
   ]
  },
  {
   "cell_type": "code",
   "execution_count": 29,
   "metadata": {
    "cell_style": "split",
    "slideshow": {
     "slide_type": "slide"
    },
    "tags": [
     "raises-exception"
    ]
   },
   "outputs": [
    {
     "name": "stdout",
     "output_type": "stream",
     "text": [
      "in time_bomb(1)\n",
      "in time_bomb(0)\n"
     ]
    },
    {
     "ename": "OverflowError",
     "evalue": "BOOM",
     "output_type": "error",
     "traceback": [
      "\u001b[1;31m---------------------------------------------------------------------------\u001b[0m",
      "\u001b[1;31mOverflowError\u001b[0m                             Traceback (most recent call last)",
      "\u001b[1;32m<ipython-input-29-d5ed0e7a0f46>\u001b[0m in \u001b[0;36m<module>\u001b[1;34m\u001b[0m\n\u001b[0;32m      6\u001b[0m     \u001b[0mprint\u001b[0m\u001b[1;33m(\u001b[0m\u001b[1;34m\"will never pass here\"\u001b[0m\u001b[1;33m)\u001b[0m\u001b[1;33m\u001b[0m\u001b[0m\n\u001b[0;32m      7\u001b[0m \u001b[1;33m\u001b[0m\u001b[0m\n\u001b[1;32m----> 8\u001b[1;33m \u001b[0mdriver\u001b[0m\u001b[1;33m(\u001b[0m\u001b[1;33m)\u001b[0m\u001b[1;33m\u001b[0m\u001b[0m\n\u001b[0m",
      "\u001b[1;32m<ipython-input-29-d5ed0e7a0f46>\u001b[0m in \u001b[0;36mdriver\u001b[1;34m()\u001b[0m\n\u001b[0;32m      3\u001b[0m \u001b[1;33m\u001b[0m\u001b[0m\n\u001b[0;32m      4\u001b[0m \u001b[1;32mdef\u001b[0m \u001b[0mdriver\u001b[0m\u001b[1;33m(\u001b[0m\u001b[1;33m)\u001b[0m\u001b[1;33m:\u001b[0m\u001b[1;33m\u001b[0m\u001b[0m\n\u001b[1;32m----> 5\u001b[1;33m     \u001b[0mtime_bomb\u001b[0m\u001b[1;33m(\u001b[0m\u001b[1;36m1\u001b[0m\u001b[1;33m)\u001b[0m\u001b[1;33m\u001b[0m\u001b[0m\n\u001b[0m\u001b[0;32m      6\u001b[0m     \u001b[0mprint\u001b[0m\u001b[1;33m(\u001b[0m\u001b[1;34m\"will never pass here\"\u001b[0m\u001b[1;33m)\u001b[0m\u001b[1;33m\u001b[0m\u001b[0m\n\u001b[0;32m      7\u001b[0m \u001b[1;33m\u001b[0m\u001b[0m\n",
      "\u001b[1;32m<ipython-input-27-72b43593347a>\u001b[0m in \u001b[0;36mtime_bomb\u001b[1;34m(n)\u001b[0m\n\u001b[0;32m      4\u001b[0m     \u001b[0mprint\u001b[0m\u001b[1;33m(\u001b[0m\u001b[1;34mf\"in time_bomb({n})\"\u001b[0m\u001b[1;33m)\u001b[0m\u001b[1;33m\u001b[0m\u001b[0m\n\u001b[0;32m      5\u001b[0m     \u001b[1;32mif\u001b[0m \u001b[0mn\u001b[0m \u001b[1;33m>\u001b[0m \u001b[1;36m0\u001b[0m\u001b[1;33m:\u001b[0m\u001b[1;33m\u001b[0m\u001b[0m\n\u001b[1;32m----> 6\u001b[1;33m         \u001b[1;32mreturn\u001b[0m \u001b[0mtime_bomb\u001b[0m\u001b[1;33m(\u001b[0m\u001b[0mn\u001b[0m\u001b[1;33m-\u001b[0m\u001b[1;36m1\u001b[0m\u001b[1;33m)\u001b[0m\u001b[1;33m\u001b[0m\u001b[0m\n\u001b[0m\u001b[0;32m      7\u001b[0m     \u001b[1;32melse\u001b[0m\u001b[1;33m:\u001b[0m\u001b[1;33m\u001b[0m\u001b[0m\n\u001b[0;32m      8\u001b[0m         \u001b[1;32mraise\u001b[0m \u001b[0mOverflowError\u001b[0m\u001b[1;33m(\u001b[0m\u001b[1;34m\"BOOM\"\u001b[0m\u001b[1;33m)\u001b[0m\u001b[1;33m\u001b[0m\u001b[0m\n",
      "\u001b[1;32m<ipython-input-27-72b43593347a>\u001b[0m in \u001b[0;36mtime_bomb\u001b[1;34m(n)\u001b[0m\n\u001b[0;32m      6\u001b[0m         \u001b[1;32mreturn\u001b[0m \u001b[0mtime_bomb\u001b[0m\u001b[1;33m(\u001b[0m\u001b[0mn\u001b[0m\u001b[1;33m-\u001b[0m\u001b[1;36m1\u001b[0m\u001b[1;33m)\u001b[0m\u001b[1;33m\u001b[0m\u001b[0m\n\u001b[0;32m      7\u001b[0m     \u001b[1;32melse\u001b[0m\u001b[1;33m:\u001b[0m\u001b[1;33m\u001b[0m\u001b[0m\n\u001b[1;32m----> 8\u001b[1;33m         \u001b[1;32mraise\u001b[0m \u001b[0mOverflowError\u001b[0m\u001b[1;33m(\u001b[0m\u001b[1;34m\"BOOM\"\u001b[0m\u001b[1;33m)\u001b[0m\u001b[1;33m\u001b[0m\u001b[0m\n\u001b[0m",
      "\u001b[1;31mOverflowError\u001b[0m: BOOM"
     ]
    }
   ],
   "source": [
    "# si personne n'attrape un raise\n",
    "# le contrôle retourne à l'OS\n",
    "\n",
    "def driver():\n",
    "    time_bomb(1)\n",
    "    print(\"will never pass here\")\n",
    "\n",
    "driver()     "
   ]
  },
  {
   "cell_type": "markdown",
   "metadata": {
    "cell_style": "split"
   },
   "source": [
    "![uncaught](../media/except-stack-uncaught.png)"
   ]
  },
  {
   "cell_type": "code",
   "execution_count": 30,
   "metadata": {
    "cell_style": "split",
    "slideshow": {
     "slide_type": "slide"
    }
   },
   "outputs": [
    {
     "name": "stdout",
     "output_type": "stream",
     "text": [
      "in time_bomb(2)\n",
      "in time_bomb(1)\n",
      "in time_bomb(0)\n",
      "OOPS <class 'OverflowError'>, BOOM\n",
      "will do this\n"
     ]
    }
   ],
   "source": [
    "# cette fois tout est\n",
    "# sous contrôle\n",
    "def driver_try():\n",
    "    try:\n",
    "        time_bomb(2)\n",
    "    except Exception as exc:\n",
    "        print(f\"OOPS {type(exc)}, {exc}\")\n",
    "    print(\"will do this\")\n",
    "    \n",
    "driver_try()    "
   ]
  },
  {
   "cell_type": "markdown",
   "metadata": {
    "cell_style": "split"
   },
   "source": [
    "![try](../media/except-stack-try.png)"
   ]
  },
  {
   "cell_type": "markdown",
   "metadata": {
    "run_control": {
     "frozen": false,
     "read_only": false
    },
    "slideshow": {
     "slide_type": "slide"
    }
   },
   "source": [
    "## clause `except`"
   ]
  },
  {
   "cell_type": "markdown",
   "metadata": {
    "cell_style": "center"
   },
   "source": [
    "* la clause `raise` doit fournir un objet idoine  \n",
    "  ne peut pas par exemple faire `raise 1`\n",
    "\n",
    "* doit être une instance de `BaseException`  \n",
    "  (ou de l'une de ses sous-classes)\n",
    "\n",
    "* la clause `except` permet de n'attraper  \n",
    "  qu'une partie des exceptions possibles\n"
   ]
  },
  {
   "cell_type": "markdown",
   "metadata": {
    "slideshow": {
     "slide_type": "slide"
    }
   },
   "source": [
    "## passage d'arguments\n",
    "\n",
    "les mécanismes de définition et de passage de paramètres sont assez complexes (cf cours avancé)  \n",
    "pour cette introduction disons simplement qu'on peut définir des paramètres optionnels :  \n"
   ]
  },
  {
   "cell_type": "code",
   "execution_count": 34,
   "metadata": {},
   "outputs": [],
   "source": [
    "# une fonction qui accepte un ou deux arguments\n",
    "def foo(obligatoire, optionnel=10):\n",
    "    print(f\"obligatoire={obligatoire} optionnel={optionnel}\")"
   ]
  },
  {
   "cell_type": "code",
   "execution_count": 35,
   "metadata": {
    "cell_style": "split"
   },
   "outputs": [
    {
     "name": "stdout",
     "output_type": "stream",
     "text": [
      "obligatoire=100 optionnel=20\n"
     ]
    }
   ],
   "source": [
    "# avec deux arguments\n",
    "foo(100, 20)"
   ]
  },
  {
   "cell_type": "code",
   "execution_count": 36,
   "metadata": {
    "cell_style": "split"
   },
   "outputs": [
    {
     "name": "stdout",
     "output_type": "stream",
     "text": [
      "obligatoire=1000 optionnel=10\n"
     ]
    }
   ],
   "source": [
    "# ou avec un seul\n",
    "foo(1000)"
   ]
  },
  {
   "cell_type": "markdown",
   "metadata": {
    "slideshow": {
     "slide_type": "notes"
    }
   },
   "source": [
    "On verra un peu plus loin comment manipuler un nombre variable d'arguments; mais pour cela on a besoin d'etudier d'abord les types évolués de Python."
   ]
  },
  {
   "cell_type": "markdown",
   "metadata": {
    "cell_style": "center",
    "slideshow": {
     "slide_type": "slide"
    }
   },
   "source": [
    "## exercices"
   ]
  },
  {
   "cell_type": "markdown",
   "metadata": {
    "cell_style": "center"
   },
   "source": [
    "https://nbhosting.inria.fr/auditor/notebook/python3-s2:exos/w4/w4-s3-x1-pgcd  \n",
    "https://nbhosting.inria.fr/auditor/notebook/python3-s2:exos/w4/w4-s3-x4-power"
   ]
  },
  {
   "cell_type": "markdown",
   "metadata": {
    "cell_style": "split",
    "slideshow": {
     "slide_type": ""
    }
   },
   "source": [
    "écrire une fonction qui calcule la puissance entière\n",
    "\n",
    "```python\n",
    "def power(x, n):\n",
    "    \"\"\"\n",
    "    retourne x à la puissance n\n",
    "    en O(log(n))\n",
    "    \"\"\"\n",
    "    pass # votre code ici\n",
    "```\n",
    "  "
   ]
  },
  {
   "cell_type": "markdown",
   "metadata": {
    "cell_style": "split"
   },
   "source": [
    "écrire une fonction qui calcule de pgcd\n",
    "\n",
    "```python\n",
    "def pgcd(a, b):\n",
    "    \"\"\"\n",
    "    retourne le pgcd de a et b\n",
    "    par convention on admet que\n",
    "    pgcd(0, n) == pgcd(n, 0) = n\n",
    "    \"\"\"\n",
    "    pass\n",
    "```"
   ]
  }
 ],
 "metadata": {
  "celltoolbar": "Slideshow",
  "ipub": {
   "sphinx": {
    "toggle_input": true,
    "toggle_input_all": true,
    "toggle_output": true,
    "toggle_output_all": true
   }
  },
  "kernelspec": {
   "display_name": "Python 3",
   "language": "python",
   "name": "python3"
  },
  "language_info": {
   "codemirror_mode": {
    "name": "ipython",
    "version": 3
   },
   "file_extension": ".py",
   "mimetype": "text/x-python",
   "name": "python",
   "nbconvert_exporter": "python",
   "pygments_lexer": "ipython3",
   "version": "3.6.6"
  },
  "notebookname": "fonctions",
  "rise": {
   "autolaunch": true,
   "slideNumber": "c/t",
   "start_slideshow_at": "selected",
   "theme": "sky",
   "transition": "cube"
  },
  "version": "1.0"
 },
 "nbformat": 4,
 "nbformat_minor": 4
}
