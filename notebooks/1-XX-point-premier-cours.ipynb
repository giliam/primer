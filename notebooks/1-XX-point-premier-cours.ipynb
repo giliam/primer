{
 "cells": [
  {
   "cell_type": "markdown",
   "metadata": {
    "slideshow": {
     "slide_type": "slide"
    }
   },
   "source": [
    "# Faisons le point..."
   ]
  },
  {
   "cell_type": "markdown",
   "metadata": {},
   "source": [
    "* sur ce que vous avez retenu du 1er cours\n",
    "* sur ce que vous avez compris du 1er cours"
   ]
  },
  {
   "cell_type": "markdown",
   "metadata": {
    "slideshow": {
     "slide_type": "slide"
    }
   },
   "source": [
    "## Question"
   ]
  },
  {
   "cell_type": "markdown",
   "metadata": {},
   "source": [
    "Quels sont les quatre types de *containers* ?"
   ]
  },
  {
   "cell_type": "markdown",
   "metadata": {
    "slideshow": {
     "slide_type": "slide"
    }
   },
   "source": [
    "* la liste ou `list` \n",
    "* le `tuple`\n",
    "* l'ensemble ou `set`\n",
    "* le dictionnaire ou `dict`"
   ]
  },
  {
   "cell_type": "markdown",
   "metadata": {
    "slideshow": {
     "slide_type": "slide"
    }
   },
   "source": [
    "## Question"
   ]
  },
  {
   "cell_type": "markdown",
   "metadata": {
    "slideshow": {
     "slide_type": "-"
    }
   },
   "source": [
    "Comment parcourir un dictionnaire ?"
   ]
  },
  {
   "cell_type": "code",
   "execution_count": null,
   "metadata": {},
   "outputs": [],
   "source": [
    "listes = {\"Camino royal\": \"BDE\", \"Polaromine\": \"BDL\"}"
   ]
  },
  {
   "cell_type": "markdown",
   "metadata": {
    "slideshow": {
     "slide_type": "slide"
    }
   },
   "source": [
    "Plusieurs solutions :"
   ]
  },
  {
   "cell_type": "code",
   "execution_count": null,
   "metadata": {
    "cell_style": "split",
    "slideshow": {
     "slide_type": "-"
    }
   },
   "outputs": [],
   "source": [
    "for cle, valeur in listes.items():\n",
    "    print(f\"{cle} est {valeur}\")"
   ]
  },
  {
   "cell_type": "code",
   "execution_count": null,
   "metadata": {
    "cell_style": "split"
   },
   "outputs": [],
   "source": [
    "for cle in listes.keys():\n",
    "    print(\"Voici\", cle)\n",
    "\n",
    "for cle in listes:\n",
    "    print(\"Voici\", cle)"
   ]
  },
  {
   "cell_type": "code",
   "execution_count": null,
   "metadata": {
    "cell_style": "split"
   },
   "outputs": [],
   "source": [
    "for valeur in listes.values():\n",
    "    print(f\"{valeur}\")"
   ]
  },
  {
   "cell_type": "markdown",
   "metadata": {
    "slideshow": {
     "slide_type": "slide"
    }
   },
   "source": [
    "# Question"
   ]
  },
  {
   "cell_type": "markdown",
   "metadata": {},
   "source": [
    "Quel est l'entier maximal en Python ?"
   ]
  },
  {
   "cell_type": "markdown",
   "metadata": {
    "slideshow": {
     "slide_type": "slide"
    }
   },
   "source": [
    "Il n'y en a pas, les entiers en Python ne sont pas limités !\n",
    "\n",
    "Vous pouvez tout de même utiliser $\\texttt{math.inf}$, de la bibliothèque `math` qui est construit pour vérifier :\n",
    "\n",
    "$\\forall x \\in \\mathbb{N}, x < \\texttt{math.inf}$"
   ]
  },
  {
   "cell_type": "code",
   "execution_count": null,
   "metadata": {},
   "outputs": [],
   "source": [
    "import math\n",
    "math.inf"
   ]
  },
  {
   "cell_type": "markdown",
   "metadata": {
    "slideshow": {
     "slide_type": "slide"
    }
   },
   "source": [
    "## Question"
   ]
  },
  {
   "cell_type": "markdown",
   "metadata": {
    "slideshow": {
     "slide_type": "-"
    }
   },
   "source": [
    "Comment afficher la longueur de `l`, en modifier le 3$^{e}$ élément puis en afficher du 2$^{e}$ au 5$^{e}$ (inclus) ?"
   ]
  },
  {
   "cell_type": "code",
   "execution_count": null,
   "metadata": {},
   "outputs": [],
   "source": [
    "l = [\n",
    "    \"Bvd Saint-Michel\", \"Rue Saint-Jacques\",\n",
    "    \"Rue Pierre Nicolas\", \"Rue Gay-Lussac\",\n",
    "    \"Rue de l'abbé de l'épée\", \"Rue des Ursulines\",\n",
    "    \"Bvd Saint-Germain\"\n",
    "]"
   ]
  },
  {
   "cell_type": "markdown",
   "metadata": {
    "slideshow": {
     "slide_type": "slide"
    }
   },
   "source": [
    "La longueur :"
   ]
  },
  {
   "cell_type": "code",
   "execution_count": null,
   "metadata": {},
   "outputs": [],
   "source": [
    "len(l)"
   ]
  },
  {
   "cell_type": "markdown",
   "metadata": {},
   "source": [
    "L'élément numéro 3 (**attention, les indices commencent à 0**) :"
   ]
  },
  {
   "cell_type": "code",
   "execution_count": null,
   "metadata": {},
   "outputs": [],
   "source": [
    "l[2] = \"Rue Pierre Nicole\""
   ]
  },
  {
   "cell_type": "markdown",
   "metadata": {},
   "source": [
    "La partie centrale de la liste, du 2$^{e}$ au 5$^{e}$ (inclus) :"
   ]
  },
  {
   "cell_type": "code",
   "execution_count": null,
   "metadata": {},
   "outputs": [],
   "source": [
    "l[1:5]"
   ]
  },
  {
   "cell_type": "markdown",
   "metadata": {
    "slideshow": {
     "slide_type": "slide"
    }
   },
   "source": [
    "## Question"
   ]
  },
  {
   "cell_type": "markdown",
   "metadata": {
    "slideshow": {
     "slide_type": "-"
    }
   },
   "source": [
    "Comment écrire une fonction `slice` qui retournerait le *slicing* d'une liste ?"
   ]
  },
  {
   "cell_type": "code",
   "execution_count": null,
   "metadata": {},
   "outputs": [],
   "source": [
    "def slice(liste, debut=0, fin=None, step=1):\n",
    "    pass\n",
    "\n",
    "l = list(range(10))\n",
    "print(l)\n",
    "sous_liste = [40, 50]\n",
    "l[0] = sous_liste\n",
    "print(l)\n",
    "l2 = l.copy()\n",
    "l[0][0] = 99\n",
    "l[2] = 50\n",
    "print(l2)"
   ]
  },
  {
   "cell_type": "markdown",
   "metadata": {
    "slideshow": {
     "slide_type": "slide"
    }
   },
   "source": [
    "## Question"
   ]
  },
  {
   "cell_type": "markdown",
   "metadata": {
    "slideshow": {
     "slide_type": "-"
    }
   },
   "source": [
    "Comment faire pour permettre d'appeler une fonction avec un nombre variable de paramètres ?"
   ]
  },
  {
   "cell_type": "code",
   "execution_count": null,
   "metadata": {
    "slideshow": {
     "slide_type": "slide"
    }
   },
   "outputs": [],
   "source": [
    "def fonction(p, step, x=0, y=4, *args):\n",
    "    print(f\"p {p}, step {step}, x {x}, y {y}\")\n",
    "    print(\"args\", args)"
   ]
  },
  {
   "cell_type": "markdown",
   "metadata": {},
   "source": [
    "On peut ensuite l'appeler avec seulement les paramètres **obligatoires** :"
   ]
  },
  {
   "cell_type": "code",
   "execution_count": null,
   "metadata": {},
   "outputs": [],
   "source": [
    "fonction(\"p\", \"yolo\")"
   ]
  },
  {
   "cell_type": "markdown",
   "metadata": {},
   "source": [
    "Ou avec autant de paramètres qu'on veut :"
   ]
  },
  {
   "cell_type": "code",
   "execution_count": null,
   "metadata": {},
   "outputs": [],
   "source": [
    "fonction(1, 2, -123.2, 4, \"coucou\", 23, 4)"
   ]
  },
  {
   "cell_type": "markdown",
   "metadata": {
    "slideshow": {
     "slide_type": "slide"
    }
   },
   "source": [
    "## Question"
   ]
  },
  {
   "cell_type": "markdown",
   "metadata": {
    "slideshow": {
     "slide_type": "-"
    }
   },
   "source": [
    "Quelle est la différence entre un **objet** et une **instance** de cet objet ?"
   ]
  },
  {
   "cell_type": "code",
   "execution_count": null,
   "metadata": {
    "cell_style": "split",
    "slideshow": {
     "slide_type": "slide"
    }
   },
   "outputs": [],
   "source": [
    "class Chapeau:\n",
    "    def __init__(self, couleur=\"noire\",\n",
    "                 hauteur=15, prix=25.5):\n",
    "        self.couleur = couleur\n",
    "        self.hauteur = hauteur\n",
    "        self.prix = prix\n",
    "        self.disponible = 0\n",
    "    \n",
    "    def ajouter_stock(self, nb):\n",
    "        self.disponible += nb\n",
    "        print(\"Stock de\", \n",
    "              self.disponible)\n",
    "    \n",
    "    def vendre(self):\n",
    "        if self.disponible > 0:\n",
    "            self.disponible -= 1\n",
    "            print(\"Vendu 1, reste\", \n",
    "                  self.disponible)\n",
    "            return True\n",
    "        else:\n",
    "            print(\"\"\"Aucun chapeau \n",
    "            disponible !\"\"\")\n",
    "            return False"
   ]
  },
  {
   "cell_type": "code",
   "execution_count": null,
   "metadata": {
    "cell_style": "split"
   },
   "outputs": [],
   "source": [
    "import math\n",
    "from math import gcd as gcd_math\n",
    "gcd_math"
   ]
  },
  {
   "cell_type": "markdown",
   "metadata": {
    "slideshow": {
     "slide_type": "slide"
    }
   },
   "source": [
    "## Question"
   ]
  },
  {
   "cell_type": "markdown",
   "metadata": {
    "slideshow": {
     "slide_type": "-"
    }
   },
   "source": [
    "Qu'est-ce qu'une **compréhension de liste** ?"
   ]
  },
  {
   "cell_type": "code",
   "execution_count": null,
   "metadata": {
    "slideshow": {
     "slide_type": "-"
    }
   },
   "outputs": [],
   "source": [
    "print(l)"
   ]
  },
  {
   "cell_type": "markdown",
   "metadata": {
    "slideshow": {
     "slide_type": "slide"
    }
   },
   "source": [
    "Comme exemple, filtrons les rues des boulevards :"
   ]
  },
  {
   "cell_type": "code",
   "execution_count": null,
   "metadata": {
    "cell_style": "split"
   },
   "outputs": [],
   "source": [
    "rues_ = []\n",
    "for x in l:\n",
    "    if x.startswith('Rue'):\n",
    "        rues_.append(x)\n",
    "print(rues_)\n",
    "rues = [x for x in l if x.startswith('Rue')]\n",
    "print(rues)"
   ]
  },
  {
   "cell_type": "code",
   "execution_count": null,
   "metadata": {
    "cell_style": "split"
   },
   "outputs": [],
   "source": [
    "print(l)\n",
    "for i, valeur in enumerate(l):\n",
    "    print(i, valeur)"
   ]
  },
  {
   "cell_type": "markdown",
   "metadata": {
    "slideshow": {
     "slide_type": "slide"
    }
   },
   "source": [
    "## Exercice\n",
    "\n",
    "Aller sur [le nbhosting des exercices](https://nbhosting.inria.fr/auditor/notebook/python3-s2:exos/w4/w4-s3-x2-taxes) et faites celui sur les taxes (4.4)."
   ]
  }
 ],
 "metadata": {
  "celltoolbar": "Slideshow",
  "kernelspec": {
   "display_name": "Python 3",
   "language": "python",
   "name": "python3"
  },
  "language_info": {
   "codemirror_mode": {
    "name": "ipython",
    "version": 3
   },
   "file_extension": ".py",
   "mimetype": "text/x-python",
   "name": "python",
   "nbconvert_exporter": "python",
   "pygments_lexer": "ipython3",
   "version": "3.6.6"
  },
  "rise": {
   "autolaunch": true,
   "slideNumber": "c/t",
   "start_slideshow_at": "selected",
   "theme": "sky",
   "transition": "cube"
  }
 },
 "nbformat": 4,
 "nbformat_minor": 2
}
