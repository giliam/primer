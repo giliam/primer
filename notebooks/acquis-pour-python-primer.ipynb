{
 "cells": [
  {
   "cell_type": "markdown",
   "metadata": {
    "slideshow": {
     "slide_type": "slide"
    }
   },
   "source": [
    "# vérification des acquis pour python-primer"
   ]
  },
  {
   "cell_type": "markdown",
   "metadata": {
    "slideshow": {
     "slide_type": "slide"
    }
   },
   "source": [
    "## I. exercices"
   ]
  },
  {
   "cell_type": "markdown",
   "metadata": {
    "slideshow": {
     "slide_type": "slide"
    }
   },
   "source": [
    "###  1) exercices sur les chaînes de caractères\n",
    "   1. créer une chaîne de caractères en python\n",
    "   1. imprimer la chaîne et sa longueur en utilisant une f-string\n",
    "   1. créer une autre chaîne de caractères\n",
    "   1. concaténer les deux chaînes\n",
    "   1. mettre le résultat en majuscule\n",
    "\n",
    "**avancés**   \n",
    "   1. créer une chaîne multi-lignes et l'afficher\n",
    "   1. découper la chaîne pour obtenir une liste des lignes (méthode **split**)"
   ]
  },
  {
   "cell_type": "code",
   "execution_count": null,
   "metadata": {},
   "outputs": [],
   "source": [
    "# votre code"
   ]
  },
  {
   "cell_type": "markdown",
   "metadata": {
    "slideshow": {
     "slide_type": "slide"
    }
   },
   "source": [
    "### 2) exercices sur le slicing\n",
    "   1. créer la chaîne de caractères:  j'adore python et numpy !\n",
    "   1. accéder au premier et au dernier caractère de la chaîne 'j' et '!'\n",
    "   1. découper la chaîne pour ne garder que \"adore\"\n",
    "   1. renverser la chaîne: ! ypmun te nohtyp eroda'j\n",
    "   1. découper la chaîne pour ne garder que \"jaoepto tnmy!"
   ]
  },
  {
   "cell_type": "code",
   "execution_count": null,
   "metadata": {},
   "outputs": [],
   "source": [
    "# votre code"
   ]
  },
  {
   "cell_type": "markdown",
   "metadata": {
    "slideshow": {
     "slide_type": "slide"
    }
   },
   "source": [
    "### 3) exercices sur les fonctions\n",
    "   1. faites une fonction *foo* qui prend deux paramètres dont le dernier est optionnel et vaut $0$ par défaut et dont le corps ne fait rien\n",
    "   1. ajouter un docstring à la fonction (message de help)\n",
    "   \n",
    "**avancé**   \n",
    "   1. implémenter la suite de fibonacci $u_0=0, u_1 = 1$, $u_n = u_{n-1} + u_{n-1}$ de manière à ce que sa complexité soit linéraire et non exponentielle"
   ]
  },
  {
   "cell_type": "code",
   "execution_count": null,
   "metadata": {},
   "outputs": [],
   "source": [
    "# votre code"
   ]
  },
  {
   "cell_type": "markdown",
   "metadata": {
    "slideshow": {
     "slide_type": "slide"
    }
   },
   "source": [
    "### 4) exercices sur les exceptions\n",
    "   1. diviser un entier par *0* que constatez-vous ?\n",
    "   1. rattraper l'exception afin que le programme ne soit pas arrêté"
   ]
  },
  {
   "cell_type": "code",
   "execution_count": null,
   "metadata": {},
   "outputs": [],
   "source": [
    "# votre code"
   ]
  },
  {
   "cell_type": "markdown",
   "metadata": {
    "slideshow": {
     "slide_type": "slide"
    }
   },
   "source": [
    "### 5) rappels sur les types\n",
    "\n",
    "-----------------\n",
    "\n",
    "   - Python est un paradigme **orienté objet** :  \n",
    "     toutes vos **données sont des objets**\n",
    "   - chaque objet a un **type**\n",
    "   - un *module* a un type, une *fonction* a un type, un *entier* a un type...\n",
    "   - le type de l'objet définit le **comportement des opérations** qu'on lui applique\n",
    "   - e.g. le **+** de chaînes de caractères ne se comporte pas comme le **+** des entiers\n",
    "   \n",
    "   ----------------\n",
    "   \n",
    "   \n",
    "   - une **méthode** est une fonction qui s'appelle **à travers un objet**\n",
    "   - *'abc'.upper()* est la méthode *upper* du type *str*"
   ]
  },
  {
   "cell_type": "markdown",
   "metadata": {
    "slideshow": {
     "slide_type": "slide"
    }
   },
   "source": [
    "### 6) exercices sur les listes\n",
    "   1. construire une liste contenant un entier, une chaînes de caractères, un flottant, la fonction *foo* precédente, un booléen\n",
    "   1. modifier le premier élément de la liste\n",
    "   1. slicer la liste de manière à n'en garder qu'un élément sur 2 à partir du début\n",
    "   1. tester si un élément est dans la liste\n",
    "   1. créer une nouvelle liste contenant elle même une liste\n",
    "   1. concaténer les deux listes\n",
    "   1. imprimer les éléments de la liste  "
   ]
  },
  {
   "cell_type": "code",
   "execution_count": null,
   "metadata": {},
   "outputs": [],
   "source": [
    "# votre code"
   ]
  },
  {
   "cell_type": "markdown",
   "metadata": {
    "slideshow": {
     "slide_type": "slide"
    }
   },
   "source": [
    "### 7) exercices sur les tuples\n",
    " \n",
    "   1. créer un tuple\n",
    "   1. le modifier\n",
    "   1. que se passe-t-il ? et pourquoi ? "
   ]
  },
  {
   "cell_type": "code",
   "execution_count": null,
   "metadata": {},
   "outputs": [],
   "source": [
    "# votre code"
   ]
  },
  {
   "cell_type": "markdown",
   "metadata": {
    "slideshow": {
     "slide_type": "slide"
    }
   },
   "source": [
    "### 9) exercices sur les dictionnaires\n",
    "   1. créer un dictionnaire avec des paires de personnes décrites par leur nom et leur age\n",
    "   1. afficher le type d'un dictionnaire\n",
    "   1. tester si une personne est dans le dictionnaire et si oui modifier son age\n",
    "   1. Apppliquer la fonction **items** au dictionnaire, que renvoie-t-elle ?\n",
    "   1. imprimer avec un **for** les noms et l'age de toutes les personnes du dictionnaire  "
   ]
  },
  {
   "cell_type": "code",
   "execution_count": null,
   "metadata": {},
   "outputs": [],
   "source": [
    "# votre code"
   ]
  },
  {
   "cell_type": "markdown",
   "metadata": {
    "slideshow": {
     "slide_type": "slide"
    }
   },
   "source": [
    "### 10) références\n",
    "\n",
    "   - en programmation, on manipule très souvent des **références** vers des objets\n",
    "   - par exemple: quand on passe un argument à une fonction, on crée une (nouvelle) référence vers un objet existant, on ne copie pas l'objet (en python)\n",
    "   - cela permet d'éviter les copies inutiles\n",
    "   - on peut ainsi accéder à un objet de plusieurs manières: **références partagées**"
   ]
  },
  {
   "cell_type": "markdown",
   "metadata": {
    "slideshow": {
     "slide_type": "slide"
    }
   },
   "source": [
    "###  exercices sur les références\n",
    "   \n",
    "   1. créer une liste l contenant deux entiers\n",
    "   1. créer une liste m contenant deux fois la liste l\n",
    "   1. rajouter un élément à la liste l\n",
    "   1. afficher m\n",
    "   1. que se passe-t-il ?"
   ]
  },
  {
   "cell_type": "code",
   "execution_count": null,
   "metadata": {},
   "outputs": [],
   "source": [
    "# votre code"
   ]
  },
  {
   "cell_type": "markdown",
   "metadata": {
    "slideshow": {
     "slide_type": "slide"
    }
   },
   "source": [
    "### 11) exercices sur les itérateurs simples\n",
    "\n",
    "   1. itérer sur le **range** des 100 premiers entiers pour les sommer\n",
    "   1. Quel est le type de l'objet **range** créé ?\n",
    "   1. à quoi sert la fonction **enumerate** ? \n",
    "   1. utilisez la pour afficher les numéros des éléments du dictionnaire de personnes  \n",
    "   \n",
    "   \n",
    "**avancé**  \n",
    "   - visionner les slides 4, 5 et 6 de https://nbhosting.inria.fr/auditor/notebook/mines-python-primer:python/notebooks/1-08-iterations\n",
    "   \n",
    "   "
   ]
  },
  {
   "cell_type": "code",
   "execution_count": null,
   "metadata": {},
   "outputs": [],
   "source": [
    "# votre code"
   ]
  },
  {
   "cell_type": "markdown",
   "metadata": {
    "slideshow": {
     "slide_type": "slide"
    }
   },
   "source": [
    "### 12 classes\n",
    "\n",
    "choisir entre la classe des rationnels (simple) et la classe des quaternions (à peine plus compliqué)\n",
    "\n",
    "1) implémenter la classe des rationnels\n",
    "\n",
    "   - https://fr.wikipedia.org/wiki/Nombre_rationnel\n",
    "   - avec les méthodes addition, produit et opposé\n",
    "   - n'oubliez pas le constructeur et la méthode spéciale de représentation\n",
    "\n",
    "2) https://nbhosting.inria.fr/auditor/notebook/mines-python-primer@jlab/notebooks/1-10-classes"
   ]
  },
  {
   "cell_type": "code",
   "execution_count": null,
   "metadata": {},
   "outputs": [],
   "source": [
    "# votre code"
   ]
  },
  {
   "cell_type": "markdown",
   "metadata": {
    "slideshow": {
     "slide_type": "slide"
    }
   },
   "source": [
    "## II. avancés"
   ]
  },
  {
   "cell_type": "markdown",
   "metadata": {
    "slideshow": {
     "slide_type": "slide"
    }
   },
   "source": [
    "### 1) exercice PGCD"
   ]
  },
  {
   "cell_type": "markdown",
   "metadata": {},
   "source": [
    "https://nbhosting.inria.fr/auditor/notebook/python3-s2:exos/w4/w4-s3-x1-pgcd"
   ]
  },
  {
   "cell_type": "code",
   "execution_count": null,
   "metadata": {},
   "outputs": [],
   "source": [
    "def pgcd(a, b):\n",
    "    \"\"\"\n",
    "    retourne le pgcd de a et b\n",
    "    par convention on admet que\n",
    "    pgcd(0, n) == pgcd(n, 0) = n\n",
    "    \"\"\"\n",
    "    pass  # votre code ici"
   ]
  },
  {
   "cell_type": "markdown",
   "metadata": {
    "slideshow": {
     "slide_type": "slide"
    }
   },
   "source": [
    "### 2) exercice Power en log(n)"
   ]
  },
  {
   "cell_type": "markdown",
   "metadata": {},
   "source": [
    "https://nbhosting.inria.fr/auditor/notebook/python3-s2:exos/w4/w4-s3-x4-power"
   ]
  },
  {
   "cell_type": "code",
   "execution_count": null,
   "metadata": {},
   "outputs": [],
   "source": [
    "def power(x, n):\n",
    "    \"\"\"\n",
    "    retourne x à la puissance n en O(log(n))\n",
    "    \"\"\"\n",
    "    pass # votre code ici"
   ]
  },
  {
   "cell_type": "markdown",
   "metadata": {
    "slideshow": {
     "slide_type": "slide"
    }
   },
   "source": [
    "### 3) cours outils d'itération utiles: product, permutations...\n",
    "   - visionner les slides 7, 8, 9 et 10 de https://nbhosting.inria.fr/auditor/notebook/mines-python-primer:python/notebooks/1-08-iterations"
   ]
  },
  {
   "cell_type": "markdown",
   "metadata": {
    "slideshow": {
     "slide_type": "slide"
    }
   },
   "source": [
    "## III. à savoir"
   ]
  },
  {
   "cell_type": "markdown",
   "metadata": {
    "slideshow": {
     "slide_type": "slide"
    }
   },
   "source": [
    "## les objectifs\n",
    "\n",
    "   - acquérir un *vernis* sur les concepts du langage **python** et les outils de base de *calcul scientifique* **numpy, pandas, matplotlib**\n",
    "   \n",
    "   \n",
    "   \n",
    "   - afin que vous soyez capables de lire et d'écrire du code simple\n",
    "   \n",
    "   \n",
    "   - mettre en oeuvre ce code simple dans un notebook et progressivement dans des programmes autonomes\n",
    "   \n",
    "   \n",
    "   \n",
    "   - vous pouvez rester sur les notebooks pendant la série de 3 cours"
   ]
  },
  {
   "cell_type": "markdown",
   "metadata": {
    "slideshow": {
     "slide_type": "slide"
    }
   },
   "source": [
    "## les outils utilisés par les enseignants\n",
    "\n",
    "\n",
    "   - https:nbhosting.inria.fr (notebooks prêt à l'emploi: aucune installation nécessaire)\n",
    "   \n",
    "   \n",
    "   - http://flotpython-primer.readthedocs.io (la version html des slides)\n",
    "   \n",
    "   \n",
    "   - https://discourse.mines-paristech.fr (un forum de discussion)"
   ]
  },
  {
   "cell_type": "markdown",
   "metadata": {
    "slideshow": {
     "slide_type": "slide"
    }
   },
   "source": [
    "## savoir ce qu'est un notebook\n",
    "\n",
    "   - un document hybride qui mélange du texte formatté, des équations et des illustrations, avec des fragments de code exécutable, possiblement interactifs\n",
    "   \n",
    "   \n",
    "   - [vidéo introductive sur python et les notebooks](https://youtu.be/ULzWaZQa1Dc)"
   ]
  },
  {
   "cell_type": "markdown",
   "metadata": {
    "slideshow": {
     "slide_type": "slide"
    }
   },
   "source": [
    "## installations   \n",
    "\n",
    "   - installer progressivement **python, numpy, pandas, matplotlib** (et **git**) sur votre machine\n",
    "   \n",
    "   \n",
    "   - choisir et installer un éditeur de texte pour écrire vos programmes (Visual Studio Code ou tout autre qui vous plaît)\n",
    "   - pour VSCode voir l'intro https://nbhosting.inria.fr/auditor/notebook/python-slides:extras/slides-extras/07-vscode\n",
    "   \n",
    "   \n",
    "   - un terminal (de préférence bash) pour lancer l'**interprête python** et exécuter des commandes simples (créer un répertoire, y aller...) "
   ]
  }
 ],
 "metadata": {
  "celltoolbar": "Slideshow",
  "kernelspec": {
   "display_name": "Python 3",
   "language": "python",
   "name": "python3"
  },
  "language_info": {
   "codemirror_mode": {
    "name": "ipython",
    "version": 3
   },
   "file_extension": ".py",
   "mimetype": "text/x-python",
   "name": "python",
   "nbconvert_exporter": "python",
   "pygments_lexer": "ipython3",
   "version": "3.7.3"
  },
  "rise": {
   "autolaunch": true,
   "slideNumber": "c/t",
   "start_slideshow_at": "selected",
   "theme": "sky",
   "transition": "cube"
  }
 },
 "nbformat": 4,
 "nbformat_minor": 2
}
